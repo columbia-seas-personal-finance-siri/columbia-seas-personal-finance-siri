{
 "cells": [
  {
   "cell_type": "code",
   "execution_count": 55,
   "metadata": {},
   "outputs": [],
   "source": [
    "import requests, time\n",
    "from bs4 import BeautifulSoup\n",
    "from urllib.error import HTTPError\n",
    "import pandas as pd"
   ]
  },
  {
   "cell_type": "code",
   "execution_count": 56,
   "metadata": {},
   "outputs": [],
   "source": [
    "base_url = \"https://www.biggerpockets.com/blog/\""
   ]
  },
  {
   "cell_type": "code",
   "execution_count": 57,
   "metadata": {},
   "outputs": [],
   "source": [
    "url = f\"{base_url}\"\n",
    "try:\n",
    "    response = requests.get(url)\n",
    "    response.raise_for_status()\n",
    "except HTTPError as hp:\n",
    "    print(hp)"
   ]
  },
  {
   "cell_type": "code",
   "execution_count": 113,
   "metadata": {},
   "outputs": [],
   "source": [
    "def get_content(url):\n",
    "    content = \"\"\n",
    "    response = requests.get(url)\n",
    "    page = BeautifulSoup(response.text, 'html.parser')\n",
    "    for article in page.findAll('main', {'class': 'entry-content'}):\n",
    "        text_elements = article.findAll(['p','ul', 'h1', 'h2', 'h3', 'h4', 'h5', 'h6', 'span'])\n",
    "        # Extract the text from each element and concatenate them into a single string\n",
    "        content = ' '.join(element.get_text() for element in text_elements)\n",
    "        return content"
   ]
  },
  {
   "cell_type": "code",
   "execution_count": 114,
   "metadata": {},
   "outputs": [],
   "source": [
    "page = BeautifulSoup(response.text, 'html.parser')\n",
    "blog_info_ls = []\n",
    "blog_info = {}\n",
    "blog = page.findAll('h2', {'class': 'entry-title js-toc-ignore mt-4 mb-0 text-xl leading-snug text-left'})\n",
    "cat = page.findAll('div', {'class': 'flex gap-4 justify-between items-center'})\n",
    "time = page.findAll('span', {'class': 'whitespace-nowrap'})\n",
    "for c, b, t in zip(cat, blog, time):\n",
    "    blog_info[\"title\"] = b.text.strip()\n",
    "    blog_info[\"link\"] = b.a['href']\n",
    "    blog_info[\"content\"] = get_content(blog_info[\"link\"])\n",
    "    blog_info[\"label\"] = c.a.text.strip()\n",
    "    blog_info[\"time\"] = t.text.strip()\n",
    "    blog_info_ls.append(blog_info.copy())"
   ]
  },
  {
   "cell_type": "code",
   "execution_count": 115,
   "metadata": {},
   "outputs": [
    {
     "data": {
      "text/plain": [
       "16"
      ]
     },
     "execution_count": 115,
     "metadata": {},
     "output_type": "execute_result"
    }
   ],
   "source": [
    "len(blog_info_ls)"
   ]
  },
  {
   "cell_type": "code",
   "execution_count": 118,
   "metadata": {},
   "outputs": [],
   "source": [
    "pd.DataFrame(blog_info_ls).to_json(\"biggerpocket.json\", orient='records', lines=True)"
   ]
  },
  {
   "cell_type": "code",
   "execution_count": null,
   "metadata": {},
   "outputs": [],
   "source": []
  }
 ],
 "metadata": {
  "kernelspec": {
   "display_name": "Python 3",
   "language": "python",
   "name": "python3"
  },
  "language_info": {
   "codemirror_mode": {
    "name": "ipython",
    "version": 3
   },
   "file_extension": ".py",
   "mimetype": "text/x-python",
   "name": "python",
   "nbconvert_exporter": "python",
   "pygments_lexer": "ipython3",
   "version": "3.10.4"
  },
  "orig_nbformat": 4
 },
 "nbformat": 4,
 "nbformat_minor": 2
}
