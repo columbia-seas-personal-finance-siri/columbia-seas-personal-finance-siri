{
 "cells": [
  {
   "cell_type": "code",
   "execution_count": 1,
   "id": "a7fb0676",
   "metadata": {},
   "outputs": [],
   "source": [
    "import requests\n",
    "import pandas as pd\n",
    "from bs4 import BeautifulSoup"
   ]
  },
  {
   "cell_type": "code",
   "execution_count": 2,
   "id": "aac50f82",
   "metadata": {},
   "outputs": [],
   "source": [
    "URL = \"https://www.dealcatcher.com/\"\n",
    "page = requests.get(URL)\n",
    "soup = BeautifulSoup(page.content, \"html.parser\")\n",
    "results = soup.find(\"main\", id=\"main-column\")\n",
    "coupons = []\n",
    "f_coupons = results.find(\"div\", class_=\"featured-coupons\")\n",
    "f_coupons_object = f_coupons.find_all(\"a\", class_=\"featured-coupon\")"
   ]
  },
  {
   "cell_type": "code",
   "execution_count": 3,
   "id": "f03cc5df",
   "metadata": {},
   "outputs": [],
   "source": [
    "for coupon in f_coupons_object:\n",
    "    brand = coupon.find_all(\"img\")[0][\"alt\"].strip('\\\"')\n",
    "    discount = coupon.find(\"span\", class_=\"discount\").text.strip()\n",
    "    link = coupon[\"href\"].lstrip('\\/')\n",
    "    row={\"brand\":brand,\"discount\":discount,\"link\":URL+link}\n",
    "    coupons.append(row)\n",
    "coupons = pd.DataFrame(coupons)\n",
    "#coupons.to_json('dealCater_coupons.json')"
   ]
  },
  {
   "cell_type": "code",
   "execution_count": 4,
   "id": "32cf0157",
   "metadata": {},
   "outputs": [],
   "source": [
    "products = []\n",
    "\n",
    "catchofD = results.find(\n",
    "    \"h2\", string=\"Catch of the Day\"\n",
    ").parent\n",
    "\n",
    "catchofD.find(\"div\", class_=\"deal-body deal-body2\")\n",
    "\n",
    "name = catchofD.find(\"a\").text.strip()\n",
    "deal_price = catchofD.find(\"span\", class_=\"deal-price\").text.strip()\n",
    "discount = catchofD.find(\"span\", class_=\"retail-percent\").text.strip()\n",
    "if catchofD.find(\"b\"):\n",
    "    coupon_code = deal.find(\"b\").text.strip()\n",
    "else:\n",
    "    coupon_code = None\n",
    "description = catchofD.find(\"span\", class_=\"description ccotd\").text.strip()\n",
    "expire = catchofD.find(\"span\", class_=\"expire\").text.strip()\n",
    "merchant = catchofD.find(\"a\", class_=\"deal-merchant\").text.strip()\n",
    "link = catchofD.find(\"a\")[\"href\"].lstrip('\\/')\n",
    "\n",
    "row={\"name\":name,\"deal price\":deal_price,\"discount\":discount,\"coupon code\":coupon_code,\"description\":description,\"expire\":expire,\"merchant\":merchant,\"link\":URL+link}\n",
    "products.append(row)"
   ]
  },
  {
   "cell_type": "code",
   "execution_count": 5,
   "id": "85b0177b",
   "metadata": {},
   "outputs": [],
   "source": [
    "popular_deals = results.find(\"div\", class_=\"container grid-view\")\n",
    "deals_object = popular_deals.find_all(\"article\")\n",
    "for deal in deals_object:\n",
    "    name = deal.find(\"a\").text.strip()\n",
    "    deal_price = deal.find(\"span\", class_=\"deal-price\").text.strip()\n",
    "    discount = deal.find(\"span\", class_=\"retail-percent\").text.strip()\n",
    "    if deal.find(\"b\"):\n",
    "        coupon_code = deal.find(\"b\").text.strip()\n",
    "    else:\n",
    "        coupon_code = None\n",
    "    description = deal.find(\"span\", class_=\"description\").text.strip()\n",
    "    if deal.find(\"span\", class_=\"expire\"):\n",
    "        expire = deal.find(\"span\", class_=\"expire\").text.strip()\n",
    "    else: \n",
    "        expire = None\n",
    "    merchant = deal.find(\"a\", class_=\"deal-merchant\").text.strip()\n",
    "    link = deal.find(\"a\")[\"href\"].lstrip('\\/')\n",
    "\n",
    "    row={\"name\":name,\"deal price\":deal_price,\"discount\":discount,\"coupon code\":coupon_code,\"description\":description,\"expire\":expire,\"merchant\":merchant,\"link\":URL+link}\n",
    "    products.append(row)"
   ]
  },
  {
   "cell_type": "code",
   "execution_count": 6,
   "id": "ac96c870",
   "metadata": {},
   "outputs": [],
   "source": [
    "all_deals = results.find(\"div\", class_=\"main-content\")\n",
    "deals_object2 = all_deals.find_all(\"div\", class_=\"deal-body\")\n",
    "\n",
    "for deal in deals_object2:\n",
    "    name = deal.find(\"a\").text.strip()\n",
    "    if deal.find(\"span\", class_=\"deal-price\"):\n",
    "        deal_price = deal.find(\"span\", class_=\"deal-price\").text.strip()\n",
    "    else: deal_price = None\n",
    "    if deal.find(\"span\", class_=\"retail-percent\"):\n",
    "        discount = deal.find(\"span\", class_=\"retail-percent\").text.strip()\n",
    "    else: discount = None\n",
    "    if deal.find(\"b\"):\n",
    "        coupon_code = deal.find(\"b\").text.strip()\n",
    "    else: coupon_code = None\n",
    "    description = deal.find(\"span\", class_=\"description\").text.strip()\n",
    "    if deal.find(\"span\", class_=\"expire\"):\n",
    "        expire = deal.find(\"span\", class_=\"expire\").text.strip()\n",
    "    else: expire = None\n",
    "    merchant = deal.find(\"a\", class_=\"deal-merchant\").text.strip()\n",
    "    link = deal.find(\"a\")[\"href\"].lstrip('\\/')\n",
    "\n",
    "    row={\"name\":name,\"deal price\":deal_price,\"discount\":discount,\"coupon code\":coupon_code,\"description\":description,\"expire\":expire,\"merchant\":merchant,\"link\":URL+link}\n",
    "    products.append(row)\n",
    "    \n",
    "products = pd.DataFrame(products)\n",
    "#products.to_json('dealCater_products.json')"
   ]
  }
 ],
 "metadata": {
  "kernelspec": {
   "display_name": "proj",
   "language": "python",
   "name": "proj"
  },
  "language_info": {
   "codemirror_mode": {
    "name": "ipython",
    "version": 3
   },
   "file_extension": ".py",
   "mimetype": "text/x-python",
   "name": "python",
   "nbconvert_exporter": "python",
   "pygments_lexer": "ipython3",
   "version": "3.8.5"
  }
 },
 "nbformat": 4,
 "nbformat_minor": 5
}
