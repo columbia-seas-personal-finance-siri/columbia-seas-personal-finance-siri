{
 "cells": [
  {
   "cell_type": "code",
   "execution_count": null,
   "id": "0c0eaa6c-fc00-4ee0-b016-79988af45371",
   "metadata": {},
   "outputs": [],
   "source": [
    "import requests\n",
    "from bs4 import BeautifulSoup\n",
    "import pandas as pd"
   ]
  },
  {
   "cell_type": "code",
   "execution_count": null,
   "id": "166d7805-037e-478e-a662-98f1578e837f",
   "metadata": {},
   "outputs": [],
   "source": [
    "def fetch_page(url):\n",
    "    try:\n",
    "        response = requests.get(url)\n",
    "        response.raise_for_status()\n",
    "        return response.text\n",
    "    except requests.RequestException as e:\n",
    "        print(f\"An error occurred: {e}\")\n",
    "        return None\n",
    "\n",
    "def extract_card_info(html_content):\n",
    "    soup = BeautifulSoup(html_content, 'html.parser')\n",
    "    card_data = []\n",
    "    \n",
    "    cards = soup.find_all('div', {'class': 'w-80-ns'})   \n",
    "    \n",
    "    for card in cards:\n",
    "        # Initialize dictionary to hold individual card's data\n",
    "        card_info = {}\n",
    "        \n",
    "        \n",
    "        card_name_section = card.find('h2')\n",
    "        if card_name_section:\n",
    "            card_info['Card Name'] = card_name_section.text.strip()\n",
    "        \n",
    "        # Extract rewards rate, annual fee, and welcome bonus\n",
    "        # These are usually in a list, so we loop through them\n",
    "        for li in card.find_all('li'):\n",
    "            text = li.text.strip()\n",
    "            if 'Rewards rate' in text:\n",
    "                card_info['Rewards Rate'] = text.replace('Rewards rate', '')\n",
    "            elif 'Annual fee' in text:\n",
    "                card_info['Annual Fee'] = text.replace('Annual fee', '')\n",
    "            elif 'Welcome bonus' in text:\n",
    "                card_info['Welcome Bonus'] = text.replace('Welcome bonus', '')\n",
    "            elif \"Editors' bonus estimate\" in text:\n",
    "                card_info[\"Editors' bonus estimate\"] = text.replace(\"Editors' bonus estimate\", '')\n",
    "            \n",
    "        \n",
    "        # Extract descriptions\n",
    "        # descriptions_section = card.find('ul', {'class': 'descriptions'}) \n",
    "        # if descriptions_section:\n",
    "        #     descriptions = [item.text.strip() for item in descriptions_section.find_all('li')]\n",
    "        #     card_info['Descriptions'] = ', '.join(descriptions)\n",
    "        \n",
    "        # Append the card_info dictionary to card_data list\n",
    "        if card_info:  \n",
    "            card_data.append(card_info)\n",
    "    \n",
    "    # Convert the list of dictionaries to a Pandas DataFrame\n",
    "    df = pd.DataFrame(card_data)\n",
    "    \n",
    "    return df\n"
   ]
  },
  {
   "cell_type": "code",
   "execution_count": null,
   "id": "04783768-b38a-4403-81e2-bd57fb4b1bb6",
   "metadata": {},
   "outputs": [],
   "source": [
    "# URL of the page to scrape\n",
    "url = 'https://www.creditkarma.com/credit-cards/search-cc'\n",
    "\n",
    "# Fetch the HTML content of the page\n",
    "html_content = fetch_page(url)\n",
    "\n",
    "if html_content:\n",
    "    # Extract card info and convert it to a Pandas DataFrame\n",
    "    df = extract_card_info(html_content)\n",
    "    print(df)"
   ]
  },
  {
   "cell_type": "code",
   "execution_count": null,
   "id": "7bd2cfba-7835-4106-b26f-635628e21bd7",
   "metadata": {},
   "outputs": [],
   "source": [
    "import json\n",
    "def save_to_json(df, filename):\n",
    "    df.to_json(filename, orient='records', lines=True)\n",
    "    print(f\"Data saved to {filename}\")"
   ]
  },
  {
   "cell_type": "code",
   "execution_count": null,
   "id": "c7a07011-45e8-4bb4-babf-28b5d32dc19d",
   "metadata": {},
   "outputs": [],
   "source": [
    "save_to_json(df, 'credit_card_basic_all.json')"
   ]
  },
  {
   "cell_type": "code",
   "execution_count": null,
   "id": "527ce06a-acbd-40f2-bfd8-4c04ffd2e139",
   "metadata": {},
   "outputs": [],
   "source": []
  },
  {
   "cell_type": "code",
   "execution_count": null,
   "id": "d60b53a2-0d36-488d-925e-e824d62da4c1",
   "metadata": {},
   "outputs": [],
   "source": []
  }
 ],
 "metadata": {
  "kernelspec": {
   "display_name": "Python 3 (ipykernel)",
   "language": "python",
   "name": "python3"
  },
  "language_info": {
   "codemirror_mode": {
    "name": "ipython",
    "version": 3
   },
   "file_extension": ".py",
   "mimetype": "text/x-python",
   "name": "python",
   "nbconvert_exporter": "python",
   "pygments_lexer": "ipython3",
   "version": "3.9.13"
  }
 },
 "nbformat": 4,
 "nbformat_minor": 5
}
