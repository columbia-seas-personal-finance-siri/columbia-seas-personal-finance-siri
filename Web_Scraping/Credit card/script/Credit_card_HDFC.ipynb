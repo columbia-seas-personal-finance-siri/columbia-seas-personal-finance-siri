{
  "nbformat": 4,
  "nbformat_minor": 0,
  "metadata": {
    "colab": {
      "provenance": []
    },
    "kernelspec": {
      "name": "python3",
      "display_name": "Python 3"
    },
    "language_info": {
      "name": "python"
    }
  },
  "cells": [
    {
      "cell_type": "code",
      "execution_count": 1,
      "metadata": {
        "id": "zvx0hFCG6de-"
      },
      "outputs": [],
      "source": [
        "import requests\n",
        "from bs4 import BeautifulSoup\n",
        "import pandas as pd"
      ]
    },
    {
      "cell_type": "code",
      "source": [
        "url = 'https://www.hdfcbank.com/personal/pay/cards/credit-cards'\n",
        "url_short = 'https://www.hdfcbank.com'"
      ],
      "metadata": {
        "id": "4lnXj1DU6rr8"
      },
      "execution_count": 2,
      "outputs": []
    },
    {
      "cell_type": "code",
      "source": [
        "def fetch_page(url):\n",
        "    try:\n",
        "        response = requests.get(url)\n",
        "        response.raise_for_status()\n",
        "        return response.text\n",
        "    except requests.RequestException as e:\n",
        "        print(f\"An error occurred: {e}\")\n",
        "        return None"
      ],
      "metadata": {
        "id": "TMQNFM-965Qs"
      },
      "execution_count": 3,
      "outputs": []
    },
    {
      "cell_type": "code",
      "source": [
        "html_content = fetch_page(url)\n",
        "soup = BeautifulSoup(html_content, 'html.parser')\n",
        "main = soup.find(\"div\", class_=\"bp-area c-template-hdfc-middle-section--area\")\n",
        "categories = main.find_all(\"div\", class_=\"bp-container re-order-container c-template-hdfc-portal-accordion mainDivAcc bp-widget bp-ui-dragRoot\")\n",
        "icons = [\"accepted\",\"aeroplane\",\"membership\",\"shopping\",\"reward_points\",\"food\",\"donations\",\"travel_insurance_hover\",\"invest\",\"cash\",\"gift_rewards\",\"content\",\"Deposits\",\"fuel\",\"emi\",\"benefit\",\"interest\",\"save\",\"convenience\",\"wallet\",\"transfer\",\"feature\"]"
      ],
      "metadata": {
        "id": "MEiZutah7ZD9"
      },
      "execution_count": 4,
      "outputs": []
    },
    {
      "cell_type": "code",
      "source": [
        "def add_features(feature):\n",
        "  for icon in icons:\n",
        "    if icon in feature.find(\"img\")[\"value\"]:\n",
        "      feature_con = feature.text\n",
        "      return icon, feature_con\n",
        "  return \"other\", feature.text"
      ],
      "metadata": {
        "id": "rn1qBRyurDCH"
      },
      "execution_count": 5,
      "outputs": []
    },
    {
      "cell_type": "code",
      "source": [
        "cards = []\n",
        "for category in categories:\n",
        "  category_name = category.find(\"div\", class_=\"divContent\").text.strip()\n",
        "  card_info = category.find(\"div\", class_=\"bp-area c-template-hdfc-portal-accordion--area col-xs-12 col-sm-12 col-md-12 col-lg-12 contentacc\")\n",
        "  cards_obj = card_info.find_all(\"div\", class_=\"bp-widget bp-ui-dragRoot\")\n",
        "  for card in cards_obj:\n",
        "    features = {}\n",
        "    name = card.find(\"span\", class_=\"card-name\").text.strip()\n",
        "    features[\"name\"] = name\n",
        "    features[\"category\"] = category_name\n",
        "    for li in card.find_all('li'):\n",
        "      icon, feature_con = add_features(li)\n",
        "      if icon in features:\n",
        "        features[icon] += \"; \" + feature_con\n",
        "      else:\n",
        "        features[icon] = feature_con\n",
        "    link_obj = card.find_all(\"div\", class_=\"btnParent\")\n",
        "    for link in link_obj:\n",
        "      if link.find(\"a\", title=\"Apply Online\"):\n",
        "        apply_link = link.find(\"a\", title=\"Apply Online\")[\"href\"]\n",
        "      else:\n",
        "        apply_link = None\n",
        "      if link.find(\"a\", title=\"Know More\"):\n",
        "        info_link = url_short + link.find(\"a\", title=\"Know More\")[\"href\"]\n",
        "      else:\n",
        "        info_link = None\n",
        "    features[\"apply_link\"] = apply_link\n",
        "    features[\"info_link\"] = info_link\n",
        "    cards.append(features)"
      ],
      "metadata": {
        "id": "3YbJjirBcE4Y"
      },
      "execution_count": 6,
      "outputs": []
    },
    {
      "cell_type": "code",
      "source": [
        "cards_df = pd.DataFrame(cards)"
      ],
      "metadata": {
        "id": "LNtSrYeADYoP"
      },
      "execution_count": 7,
      "outputs": []
    },
    {
      "cell_type": "code",
      "source": [
        "# from google.colab import drive\n",
        "# drive.mount('/content/drive')\n",
        "\n",
        "# cards_df.to_json('/content/drive/MyDrive/data/yxt_credit_card_HDFC.json', orient='index')"
      ],
      "metadata": {
        "id": "WoaHhygXD3za"
      },
      "execution_count": 8,
      "outputs": []
    }
  ]
}