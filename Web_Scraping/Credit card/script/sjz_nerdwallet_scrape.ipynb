{
 "cells": [
  {
   "cell_type": "markdown",
   "metadata": {},
   "source": [
    "# NerdWallet - Web scraping"
   ]
  },
  {
   "cell_type": "code",
   "execution_count": 39,
   "metadata": {},
   "outputs": [
    {
     "name": "stdout",
     "output_type": "stream",
     "text": [
      "Requirement already satisfied: wget in /Library/Frameworks/Python.framework/Versions/3.10/lib/python3.10/site-packages (from -r requirements.txt (line 1)) (3.2)\n",
      "Requirement already satisfied: bs4 in /Library/Frameworks/Python.framework/Versions/3.10/lib/python3.10/site-packages (from -r requirements.txt (line 2)) (0.0.1)\n",
      "Requirement already satisfied: pandas in /Library/Frameworks/Python.framework/Versions/3.10/lib/python3.10/site-packages (from -r requirements.txt (line 3)) (2.1.1)\n",
      "Requirement already satisfied: requests in /Library/Frameworks/Python.framework/Versions/3.10/lib/python3.10/site-packages (from -r requirements.txt (line 4)) (2.31.0)\n",
      "Requirement already satisfied: selenium in /Library/Frameworks/Python.framework/Versions/3.10/lib/python3.10/site-packages (from -r requirements.txt (line 5)) (4.12.0)\n",
      "Requirement already satisfied: beautifulsoup4 in /Library/Frameworks/Python.framework/Versions/3.10/lib/python3.10/site-packages (from bs4->-r requirements.txt (line 2)) (4.12.2)\n",
      "Requirement already satisfied: python-dateutil>=2.8.2 in /Users/zhusijia/Library/Python/3.10/lib/python/site-packages (from pandas->-r requirements.txt (line 3)) (2.8.2)\n",
      "Requirement already satisfied: tzdata>=2022.1 in /Library/Frameworks/Python.framework/Versions/3.10/lib/python3.10/site-packages (from pandas->-r requirements.txt (line 3)) (2023.3)\n",
      "Requirement already satisfied: numpy>=1.22.4 in /Library/Frameworks/Python.framework/Versions/3.10/lib/python3.10/site-packages (from pandas->-r requirements.txt (line 3)) (1.26.0)\n",
      "Requirement already satisfied: pytz>=2020.1 in /Library/Frameworks/Python.framework/Versions/3.10/lib/python3.10/site-packages (from pandas->-r requirements.txt (line 3)) (2023.3.post1)\n",
      "Requirement already satisfied: certifi>=2017.4.17 in /Library/Frameworks/Python.framework/Versions/3.10/lib/python3.10/site-packages (from requests->-r requirements.txt (line 4)) (2023.7.22)\n",
      "Requirement already satisfied: charset-normalizer<4,>=2 in /Library/Frameworks/Python.framework/Versions/3.10/lib/python3.10/site-packages (from requests->-r requirements.txt (line 4)) (3.2.0)\n",
      "Requirement already satisfied: idna<4,>=2.5 in /Library/Frameworks/Python.framework/Versions/3.10/lib/python3.10/site-packages (from requests->-r requirements.txt (line 4)) (3.4)\n",
      "Requirement already satisfied: urllib3<3,>=1.21.1 in /Library/Frameworks/Python.framework/Versions/3.10/lib/python3.10/site-packages (from requests->-r requirements.txt (line 4)) (2.0.5)\n",
      "Requirement already satisfied: trio-websocket~=0.9 in /Library/Frameworks/Python.framework/Versions/3.10/lib/python3.10/site-packages (from selenium->-r requirements.txt (line 5)) (0.10.4)\n",
      "Requirement already satisfied: trio~=0.17 in /Library/Frameworks/Python.framework/Versions/3.10/lib/python3.10/site-packages (from selenium->-r requirements.txt (line 5)) (0.22.2)\n",
      "Requirement already satisfied: six>=1.5 in /Users/zhusijia/Library/Python/3.10/lib/python/site-packages (from python-dateutil>=2.8.2->pandas->-r requirements.txt (line 3)) (1.16.0)\n",
      "Requirement already satisfied: attrs>=20.1.0 in /Library/Frameworks/Python.framework/Versions/3.10/lib/python3.10/site-packages (from trio~=0.17->selenium->-r requirements.txt (line 5)) (23.1.0)\n",
      "Requirement already satisfied: exceptiongroup>=1.0.0rc9 in /Users/zhusijia/Library/Python/3.10/lib/python/site-packages (from trio~=0.17->selenium->-r requirements.txt (line 5)) (1.1.3)\n",
      "Requirement already satisfied: sniffio in /Library/Frameworks/Python.framework/Versions/3.10/lib/python3.10/site-packages (from trio~=0.17->selenium->-r requirements.txt (line 5)) (1.3.0)\n",
      "Requirement already satisfied: sortedcontainers in /Library/Frameworks/Python.framework/Versions/3.10/lib/python3.10/site-packages (from trio~=0.17->selenium->-r requirements.txt (line 5)) (2.4.0)\n",
      "Requirement already satisfied: outcome in /Library/Frameworks/Python.framework/Versions/3.10/lib/python3.10/site-packages (from trio~=0.17->selenium->-r requirements.txt (line 5)) (1.2.0)\n",
      "Requirement already satisfied: wsproto>=0.14 in /Library/Frameworks/Python.framework/Versions/3.10/lib/python3.10/site-packages (from trio-websocket~=0.9->selenium->-r requirements.txt (line 5)) (1.2.0)\n",
      "Requirement already satisfied: pysocks!=1.5.7,<2.0,>=1.5.6 in /Library/Frameworks/Python.framework/Versions/3.10/lib/python3.10/site-packages (from urllib3<3,>=1.21.1->requests->-r requirements.txt (line 4)) (1.7.1)\n",
      "Requirement already satisfied: soupsieve>1.2 in /Library/Frameworks/Python.framework/Versions/3.10/lib/python3.10/site-packages (from beautifulsoup4->bs4->-r requirements.txt (line 2)) (2.5)\n",
      "Requirement already satisfied: h11<1,>=0.9.0 in /Library/Frameworks/Python.framework/Versions/3.10/lib/python3.10/site-packages (from wsproto>=0.14->trio-websocket~=0.9->selenium->-r requirements.txt (line 5)) (0.14.0)\n",
      "\u001b[33mWARNING: You are using pip version 22.0.4; however, version 23.2.1 is available.\n",
      "You should consider upgrading via the '/usr/local/bin/python3 -m pip install --upgrade pip' command.\u001b[0m\u001b[33m\n",
      "\u001b[0mNote: you may need to restart the kernel to use updated packages.\n"
     ]
    }
   ],
   "source": [
    "%pip install -r requirements.txt"
   ]
  },
  {
   "cell_type": "code",
   "execution_count": 3,
   "metadata": {},
   "outputs": [],
   "source": [
    "import requests, time\n",
    "from bs4 import BeautifulSoup\n",
    "from urllib.error import HTTPError\n",
    "import pandas as pd"
   ]
  },
  {
   "cell_type": "code",
   "execution_count": 4,
   "metadata": {},
   "outputs": [],
   "source": [
    "base_url = 'https://www.nerdwallet.com/the-best-credit-cards'"
   ]
  },
  {
   "cell_type": "code",
   "execution_count": 5,
   "metadata": {},
   "outputs": [],
   "source": [
    "def get_cards_info(response, t):\n",
    "    page = BeautifulSoup(response.text, 'html.parser')\n",
    "    cards = page.findAll('a', {'class': 'MuiTypography-root MuiTypography-headline MuiLink-root MuiLink-underlineHover css-7wcx0j'})\n",
    "    cards_info = page.findAll('div', {'class': 'MuiBox-root css-q5fqw0'})\n",
    "    cards_meta_ls = []\n",
    "    card_meta = {}\n",
    "    rank = 1\n",
    "    for card in cards:\n",
    "        card_meta['card name'] = card.text\n",
    "        card_meta['ref link'] = card['href']\n",
    "        card_meta['category'] = t\n",
    "        card_meta['rank in category'] = rank\n",
    "        rank += 1\n",
    "        cards_meta_ls.append(card_meta.copy())\n",
    "    cards_ls = []\n",
    "    card_info = {}\n",
    "    for c in cards_info:\n",
    "        info_key = c.findAll('p', {'class': 'MuiTypography-root MuiTypography-body1 css-19gg6ql'})\n",
    "        info_value = c.findAll('div', {'class': 'MuiBox-root css-osq69c'})\n",
    "        for key, value in zip(info_key, info_value):\n",
    "            if value.find('span', {'class': 'MuiBox-root css-1baulvz'}):\n",
    "                detail = value.find('span', {'class': 'MuiBox-root css-1baulvz'})\n",
    "                card_info[key.text] = value.text + \"(\" + detail.span[\"aria-label\"] + \")\"\n",
    "            else:\n",
    "                card_info[key.text] = value.text\n",
    "        cards_ls.append(card_info.copy())\n",
    "    cards_meta_pd = pd.DataFrame(cards_meta_ls)\n",
    "    cards_pd = pd.DataFrame(cards_ls)\n",
    "    result_pd = pd.concat([cards_meta_pd, cards_pd], axis=1)\n",
    "    return result_pd"
   ]
  },
  {
   "cell_type": "code",
   "execution_count": 6,
   "metadata": {},
   "outputs": [],
   "source": [
    "tabs = [\"monthly-best\", \"travel\", \"balance-transfer\", \"low-interest\", \"cash-back\", \"rewards\", \"building-credit\", \"student\", \"fair-credit\", \"business\"]\n",
    "result = pd.DataFrame({})\n",
    "for t in tabs:\n",
    "    url = f\"{base_url}/{t}\"\n",
    "    try:\n",
    "        response = requests.get(url)\n",
    "        response.raise_for_status()\n",
    "    except HTTPError as hp:\n",
    "        print(hp)\n",
    "    result = pd.concat([result, get_cards_info(response, t)], ignore_index=True)"
   ]
  },
  {
   "cell_type": "code",
   "execution_count": 7,
   "metadata": {},
   "outputs": [],
   "source": [
    "result.to_json(\"NerdWallet_creditcard.json\", orient='records', lines=True)"
   ]
  },
  {
   "cell_type": "code",
   "execution_count": null,
   "metadata": {},
   "outputs": [],
   "source": []
  }
 ],
 "metadata": {
  "kernelspec": {
   "display_name": "Python 3",
   "language": "python",
   "name": "python3"
  },
  "language_info": {
   "codemirror_mode": {
    "name": "ipython",
    "version": 3
   },
   "file_extension": ".py",
   "mimetype": "text/x-python",
   "name": "python",
   "nbconvert_exporter": "python",
   "pygments_lexer": "ipython3",
   "version": "3.10.4"
  },
  "orig_nbformat": 4
 },
 "nbformat": 4,
 "nbformat_minor": 2
}
