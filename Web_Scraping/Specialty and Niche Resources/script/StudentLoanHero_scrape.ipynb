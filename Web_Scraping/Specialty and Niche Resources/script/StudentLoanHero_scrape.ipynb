{
 "cells": [
  {
   "cell_type": "code",
   "execution_count": 33,
   "metadata": {},
   "outputs": [],
   "source": [
    "import requests, itertools\n",
    "from bs4 import BeautifulSoup\n",
    "from urllib.error import HTTPError\n",
    "import pandas as pd"
   ]
  },
  {
   "cell_type": "code",
   "execution_count": 34,
   "metadata": {},
   "outputs": [],
   "source": [
    "base_url = \"https://www.lendingtree.com/student/refinance/\""
   ]
  },
  {
   "cell_type": "code",
   "execution_count": 35,
   "metadata": {},
   "outputs": [],
   "source": [
    "url = f\"{base_url}\"\n",
    "try:\n",
    "    response = requests.get(url)\n",
    "    response.raise_for_status()\n",
    "except HTTPError as hp:\n",
    "    print(hp)"
   ]
  },
  {
   "cell_type": "code",
   "execution_count": 36,
   "metadata": {},
   "outputs": [],
   "source": [
    "page = BeautifulSoup(response.text, 'html.parser')\n",
    "lender = page.findAll('div', {'class': 'lenderLogos'})\n",
    "term = page.findAll('div', {'class': 'term'})\n",
    "fixed = page.findAll('div', {'class': 'fixedAPR'})\n",
    "variable = page.findAll('div', {'class': 'variableAPR'})\n",
    "balance = page.findAll('div', {'class': 'balanceRange'})\n",
    "credit = page.findAll('div', {'class': 'creditScore'})\n",
    "detail = page.findAll('div', {'class': 'studentLenderDetails'})\n",
    "loan_info_ls = []\n",
    "loan_info = {}\n",
    "for l, t, f, v, b, c, d in itertools.zip_longest(lender, term, fixed, variable, balance, credit, detail, fillvalue='value'):\n",
    "    loan_info[\"Lender logo\"] = l.img['data-lazy-src']\n",
    "    loan_info[\"Term length (years)\"] = t.span.text.strip()\n",
    "    loan_info[\"Fixed APR\"] = f.span.text.strip()\n",
    "    loan_info[\"Variable APR\"] = v.span.text.strip()\n",
    "    loan_info[\"Balance range\"] = b.span.text.strip()\n",
    "    loan_info[\"Credit score\"] = c.div.text.strip()\n",
    "    loan_info[\"Detail information\"] = d.text.strip()\n",
    "    loan_info_ls.append(loan_info.copy())"
   ]
  },
  {
   "cell_type": "code",
   "execution_count": 37,
   "metadata": {},
   "outputs": [
    {
     "data": {
      "text/plain": [
       "8"
      ]
     },
     "execution_count": 37,
     "metadata": {},
     "output_type": "execute_result"
    }
   ],
   "source": [
    "len(loan_info_ls)"
   ]
  },
  {
   "cell_type": "code",
   "execution_count": 38,
   "metadata": {},
   "outputs": [],
   "source": [
    "pd.DataFrame(loan_info_ls).to_json(\"studentloan.json\", orient='records', lines=True)"
   ]
  }
 ],
 "metadata": {
  "kernelspec": {
   "display_name": "Python 3",
   "language": "python",
   "name": "python3"
  },
  "language_info": {
   "codemirror_mode": {
    "name": "ipython",
    "version": 3
   },
   "file_extension": ".py",
   "mimetype": "text/x-python",
   "name": "python",
   "nbconvert_exporter": "python",
   "pygments_lexer": "ipython3",
   "version": "3.10.4"
  },
  "orig_nbformat": 4
 },
 "nbformat": 4,
 "nbformat_minor": 2
}
