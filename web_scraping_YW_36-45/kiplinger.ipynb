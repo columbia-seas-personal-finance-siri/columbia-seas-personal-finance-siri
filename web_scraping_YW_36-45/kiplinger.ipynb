{
 "cells": [
  {
   "cell_type": "code",
   "execution_count": null,
   "id": "ea698e79",
   "metadata": {},
   "outputs": [],
   "source": [
    "import requests\n",
    "from bs4 import BeautifulSoup\n",
    "import json\n",
    "import time\n",
    "import datetime\n",
    "d_l=[]\n",
    "URL = \"https://www.kiplinger.com/\"\n",
    "page = requests.get(URL)\n",
    "soup = BeautifulSoup(page.content, \"html.parser\")\n",
    "results=soup.find(\"section\",class_=\"listing listing--carousel\")\n",
    "results1=results.find(\"div\",class_=\"listing__item listing__item--hero\")\n",
    "a=results1.find(\"a\",class_=\"listing__link\").get(\"href\")\n",
    "page = requests.get(a)\n",
    "soup = BeautifulSoup(page.content, \"html.parser\")\n",
    "title=soup.find(\"title\").text\n",
    "date=soup.find(\"meta\",{\"name\":\"pub_date\"}).get(\"content\")\n",
    "date=datetime.datetime.fromisoformat(date)\n",
    "label=soup.find(\"meta\",{\"name\":\"parsely-section\"}).get(\"content\")\n",
    "content=soup.find(\"div\",id=\"article-body\")\n",
    "content=content.find_all(\"p\")\n",
    "content=\"\".join([i.text for i in content])\n",
    "d={\"title\":title,\"date\":date,\"content\":content,\"label\":label,\"link\":a}\n",
    "d_l.append(d)\n",
    "results2=results.find(\"ul\",class_=\"listing__list\")\n",
    "a=results2.find_all(\"a\",class_=\"listing__link\")\n",
    "for i in a:\n",
    "  i=i.get(\"href\")\n",
    "  page = requests.get(i)\n",
    "  soup = BeautifulSoup(page.content, \"html.parser\")\n",
    "  title=soup.find(\"title\").text\n",
    "  date=soup.find(\"meta\",{\"name\":\"pub_date\"}).get(\"content\")\n",
    "  date=datetime.datetime.fromisoformat(date)\n",
    "  label=soup.find(\"meta\",{\"name\":\"parsely-section\"}).get(\"content\")\n",
    "  content=soup.find(\"div\",id=\"article-body\")\n",
    "  content=content.find_all(\"p\")\n",
    "  content=\"\".join([i.text for i in content])\n",
    "  d={\"title\":title,\"date\":date,\"content\":content,\"label\":label,\"label\":i}\n",
    "  d_l.append(d)"
   ]
  },
  {
   "cell_type": "code",
   "execution_count": null,
   "id": "25d75793",
   "metadata": {},
   "outputs": [],
   "source": [
    "d_json=json.dumps(d_l,default=str)\n",
    "d_json"
   ]
  },
  {
   "cell_type": "code",
   "execution_count": null,
   "id": "162fb3c3",
   "metadata": {},
   "outputs": [],
   "source": [
    "with open(\"money.json\", \"w\") as outfile:\n",
    "    outfile.write(d_json)"
   ]
  }
 ],
 "metadata": {
  "kernelspec": {
   "display_name": "Python 3 (ipykernel)",
   "language": "python",
   "name": "python3"
  },
  "language_info": {
   "codemirror_mode": {
    "name": "ipython",
    "version": 3
   },
   "file_extension": ".py",
   "mimetype": "text/x-python",
   "name": "python",
   "nbconvert_exporter": "python",
   "pygments_lexer": "ipython3",
   "version": "3.9.7"
  }
 },
 "nbformat": 4,
 "nbformat_minor": 5
}
